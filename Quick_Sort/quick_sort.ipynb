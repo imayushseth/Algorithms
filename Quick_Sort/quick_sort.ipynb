{
 "cells": [
  {
   "cell_type": "code",
   "execution_count": 17,
   "metadata": {},
   "outputs": [],
   "source": [
    "test0 = {\n",
    "  'input' : {\n",
    "    'nums' : [4,2,8,-65,-1,0,4,7,8,1,34,7]\n",
    "    },\n",
    "  'output' : [-65, -1, 0, 1, 2, 4, 4, 7, 7, 8, 8, 34]\n",
    "}\n",
    "\n",
    "test1 = {\n",
    "  'input' : {\n",
    "    'nums' : [4,2,8]\n",
    "    },\n",
    "  'output' : [2,4,8]\n",
    "}\n",
    "\n",
    "test2 = {\n",
    "  'input' : {\n",
    "    'nums' : []\n",
    "    },\n",
    "  'output' : []\n",
    "}\n",
    "\n",
    "test3 = {\n",
    "  'input' : {\n",
    "    'nums' : [4]\n",
    "    },\n",
    "  'output' : [4]\n",
    "}\n",
    "\n",
    "test4 = {\n",
    "  'input' : {\n",
    "    'nums' : [5,5,5,5,5,5]\n",
    "    },\n",
    "  'output' : [5,5,5,5,5,5]\n",
    "}\n",
    "\n",
    "test5 = {\n",
    "  'input' : {\n",
    "    'nums' : [-2,-1,0,1,2,3,4]\n",
    "    },\n",
    "  'output' : [-2,-1,0,1,2,3,4]\n",
    "}\n",
    "\n",
    "tests = [test0,test1,test2,test3,test4,test5]"
   ]
  },
  {
   "cell_type": "code",
   "execution_count": 18,
   "metadata": {},
   "outputs": [],
   "source": [
    "def quick_sort(nums, start=0, end=None):\n",
    "\n",
    "  if end is None:\n",
    "    nums = list(nums)\n",
    "    end = len(nums)-1\n",
    "  \n",
    "  if start < end:\n",
    "    pivot = partition(nums, start, end)\n",
    "    quick_sort(nums, start, pivot-1)\n",
    "    quick_sort(nums, pivot+1, end)\n",
    "\n",
    "  return nums\n",
    "\n",
    "\n",
    "def partition(nums, start=0, end=None):\n",
    "\n",
    "  if end is None:\n",
    "    nums = list(nums)\n",
    "    end = len(nums)-1\n",
    "\n",
    "  l, r = 0, end-1\n",
    "\n",
    "  while l < r:\n",
    "    if nums[l] <= nums[end]:\n",
    "      l += 1\n",
    "    elif nums[r] >= nums[end]:\n",
    "      r -= 1\n",
    "    else:\n",
    "      nums[l], nums[r] = nums[r], nums[l]\n",
    "      \n",
    "  if nums[l] > nums[end]:\n",
    "    nums[l], nums[end] = nums[end], nums[l]\n",
    "    return l\n",
    "  else:\n",
    "    return end\n",
    "\n",
    "\n"
   ]
  },
  {
   "cell_type": "code",
   "execution_count": 19,
   "metadata": {},
   "outputs": [
    {
     "name": "stdout",
     "output_type": "stream",
     "text": [
      "True\n",
      "True\n",
      "True\n",
      "True\n",
      "True\n",
      "True\n"
     ]
    }
   ],
   "source": [
    "for test in tests:\n",
    "  print(quick_sort(test['input']['nums'], 0, None) == test['output'])"
   ]
  },
  {
   "cell_type": "code",
   "execution_count": null,
   "metadata": {},
   "outputs": [],
   "source": []
  },
  {
   "cell_type": "code",
   "execution_count": null,
   "metadata": {},
   "outputs": [],
   "source": []
  },
  {
   "cell_type": "code",
   "execution_count": null,
   "metadata": {},
   "outputs": [],
   "source": []
  },
  {
   "cell_type": "code",
   "execution_count": null,
   "metadata": {},
   "outputs": [],
   "source": []
  },
  {
   "cell_type": "code",
   "execution_count": null,
   "metadata": {},
   "outputs": [],
   "source": []
  },
  {
   "cell_type": "code",
   "execution_count": null,
   "metadata": {},
   "outputs": [],
   "source": []
  }
 ],
 "metadata": {
  "kernelspec": {
   "display_name": "Python 3.8.10 64-bit",
   "language": "python",
   "name": "python3"
  },
  "language_info": {
   "codemirror_mode": {
    "name": "ipython",
    "version": 3
   },
   "file_extension": ".py",
   "mimetype": "text/x-python",
   "name": "python",
   "nbconvert_exporter": "python",
   "pygments_lexer": "ipython3",
   "version": "3.8.10"
  },
  "orig_nbformat": 4,
  "vscode": {
   "interpreter": {
    "hash": "6a926afa313b26ae1264fdcf81c726a97e69f6ba2ba780f6aa901948710f8d6e"
   }
  }
 },
 "nbformat": 4,
 "nbformat_minor": 2
}
