{
 "cells": [
  {
   "cell_type": "code",
   "execution_count": 2,
   "metadata": {},
   "outputs": [],
   "source": [
    "test0 = {\n",
    "  'input' : [5,2,9,0,12,3,-1,-56,744,67],\n",
    "  'output' : [-56,744]\n",
    "}\n",
    "\n",
    "test1 = {\n",
    "  'input' : [5000,2,9,0,12,3,-1,-56,744,-667],\n",
    "  'output' : [-667,5000]\n",
    "}\n",
    "\n",
    "test2 = {\n",
    "  'input' : [-555,2,9,0,12,3,-1,-56,744,6700],\n",
    "  'output' : [-555,6700]\n",
    "}\n",
    "\n",
    "test3 = {\n",
    "  'input' : [5,5,5],\n",
    "  'output' : [5,5]\n",
    "}\n",
    "\n",
    "test4 = {\n",
    "  'input' : [6,8],\n",
    "  'output' : [6,8]\n",
    "}\n",
    "\n",
    "test5 = {\n",
    "  'input' : [80,60],\n",
    "  'output' : [60,80]\n",
    "}\n",
    "\n",
    "test6 = {\n",
    "  'input' : [5],\n",
    "  'output' : [5,5]\n",
    "}\n",
    "\n",
    "test7 = {\n",
    "  'input' : [],\n",
    "  'output' : []\n",
    "}\n",
    "\n",
    "test8 = {\n",
    "  'input' : [0],\n",
    "  'output' : [0,0]\n",
    "}\n",
    "\n",
    "tests = [test0,test1,test2,test3,test4,test5,test6,test7,test8]"
   ]
  },
  {
   "cell_type": "code",
   "execution_count": 3,
   "metadata": {},
   "outputs": [],
   "source": [
    "def find_min_max(nums, start=0, end=None):\n",
    "\n",
    "  if end is None:\n",
    "    nums = list(nums)\n",
    "    end = len(nums)-1\n",
    "\n",
    "  if start == end:\n",
    "    return nums[start],nums[start]\n",
    "  \n",
    "  if end == start+1:\n",
    "    return min(nums[start],nums[end]),max(nums[start],nums[end])\n",
    "\n",
    "  mid = (start+end)//2\n",
    "\n",
    "  left = find_min_max(nums,start,mid)\n",
    "  right = find_min_max(nums,mid,end)\n",
    "\n",
    "  return min(left[0],right[0]),max(left[1],right[1])\n",
    "\n"
   ]
  },
  {
   "cell_type": "code",
   "execution_count": 4,
   "metadata": {},
   "outputs": [
    {
     "ename": "",
     "evalue": "",
     "output_type": "error",
     "traceback": [
      "The Kernel crashed while executing code in the the current cell or a previous cell. Please review the code in the cell(s) to identify a possible cause of the failure. Click <a href='https://aka.ms/vscodeJupyterKernelCrash'>here</a> for more info. View Jupyter <a href='command:jupyter.viewOutput'>log</a> for further details."
     ]
    },
    {
     "ename": "",
     "evalue": "",
     "output_type": "error",
     "traceback": [
      "\u001b[1;31mCanceled future for execute_request message before replies were done"
     ]
    }
   ],
   "source": [
    "print(list(find_min_max(test7['input'],0,None)) == test7['output'])"
   ]
  },
  {
   "cell_type": "code",
   "execution_count": null,
   "metadata": {},
   "outputs": [
    {
     "ename": "NameError",
     "evalue": "name 'tests' is not defined",
     "output_type": "error",
     "traceback": [
      "\u001b[1;31m---------------------------------------------------------------------------\u001b[0m",
      "\u001b[1;31mNameError\u001b[0m                                 Traceback (most recent call last)",
      "Cell \u001b[1;32mIn[1], line 1\u001b[0m\n\u001b[1;32m----> 1\u001b[0m \u001b[38;5;28;01mfor\u001b[39;00m test \u001b[38;5;129;01min\u001b[39;00m \u001b[43mtests\u001b[49m:\n\u001b[0;32m      2\u001b[0m   \u001b[38;5;28mprint\u001b[39m(\u001b[38;5;28mlist\u001b[39m(find_min_max(test[\u001b[38;5;124m'\u001b[39m\u001b[38;5;124minput\u001b[39m\u001b[38;5;124m'\u001b[39m],\u001b[38;5;241m0\u001b[39m,\u001b[38;5;28;01mNone\u001b[39;00m)) \u001b[38;5;241m==\u001b[39m test[\u001b[38;5;124m'\u001b[39m\u001b[38;5;124moutput\u001b[39m\u001b[38;5;124m'\u001b[39m])\n",
      "\u001b[1;31mNameError\u001b[0m: name 'tests' is not defined"
     ]
    }
   ],
   "source": [
    "for test in tests:\n",
    "  print(list(find_min_max(test['input'],0,None)) == test['output'])"
   ]
  },
  {
   "cell_type": "code",
   "execution_count": null,
   "metadata": {},
   "outputs": [],
   "source": []
  },
  {
   "cell_type": "code",
   "execution_count": null,
   "metadata": {},
   "outputs": [],
   "source": []
  },
  {
   "cell_type": "code",
   "execution_count": null,
   "metadata": {},
   "outputs": [],
   "source": []
  }
 ],
 "metadata": {
  "kernelspec": {
   "display_name": "Python 3.8.10 64-bit",
   "language": "python",
   "name": "python3"
  },
  "language_info": {
   "codemirror_mode": {
    "name": "ipython",
    "version": 3
   },
   "file_extension": ".py",
   "mimetype": "text/x-python",
   "name": "python",
   "nbconvert_exporter": "python",
   "pygments_lexer": "ipython3",
   "version": "3.8.10"
  },
  "orig_nbformat": 4,
  "vscode": {
   "interpreter": {
    "hash": "6a926afa313b26ae1264fdcf81c726a97e69f6ba2ba780f6aa901948710f8d6e"
   }
  }
 },
 "nbformat": 4,
 "nbformat_minor": 2
}
