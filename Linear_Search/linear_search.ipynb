{
 "cells": [
  {
   "cell_type": "code",
   "execution_count": 10,
   "metadata": {},
   "outputs": [],
   "source": [
    "\n",
    "test0 = {\n",
    "  'input' : {\n",
    "    'nums' : [1,2,3,4,5,6,7],\n",
    "    'find' : 6\n",
    "  },\n",
    "  'output' : 5\n",
    "}\n",
    "\n",
    "test1 = {\n",
    "  'input' : {\n",
    "    'nums' : [1,2,3,4,5,6,7],\n",
    "    'find' : 2\n",
    "  },\n",
    "  'output' : 1\n",
    "}\n",
    "\n",
    "test2 = {\n",
    "  'input' : {\n",
    "    'nums' : [1,2,3,4,5,6,7],\n",
    "    'find' : 4\n",
    "  },\n",
    "  'output' : 3\n",
    "}\n",
    "\n",
    "test3 = {\n",
    "  'input' : {\n",
    "    'nums' : [111],\n",
    "    'find' : 111\n",
    "  },\n",
    "  'output' : 0\n",
    "}\n",
    "\n",
    "test4 = {\n",
    "  'input' : {\n",
    "    'nums' : [1,2,3,4,5,6,7],\n",
    "    'find' : 7\n",
    "  },\n",
    "  'output' : 6\n",
    "}\n",
    "\n",
    "test5 = {\n",
    "  'input' : {\n",
    "    'nums' : [],\n",
    "    'find' : 6\n",
    "  },\n",
    "  'output' : -1\n",
    "}\n",
    "\n",
    "test6 = {\n",
    "  'input' : {\n",
    "    'nums' : [1,2,3,4,5,6,7],\n",
    "    'find' : 8\n",
    "  },\n",
    "  'output' : -1\n",
    "}\n",
    "\n",
    "test7 = {\n",
    "  'input' : {\n",
    "    'nums' : [1,1,1,1,1],\n",
    "    'find' : 1\n",
    "  },\n",
    "  'output' : 0\n",
    "}\n",
    "\n",
    "tests = [test0, test1, test2, test3, test4, test5, test6, test7]"
   ]
  },
  {
   "cell_type": "code",
   "execution_count": 11,
   "metadata": {},
   "outputs": [],
   "source": [
    "def linear_search(nums, find):\n",
    "  position = 0\n",
    "  while position < len(nums):\n",
    "    if nums[position] == find:\n",
    "      return position\n",
    "    position += 1\n",
    "  return -1\n",
    "    "
   ]
  },
  {
   "cell_type": "code",
   "execution_count": 12,
   "metadata": {},
   "outputs": [
    {
     "name": "stdout",
     "output_type": "stream",
     "text": [
      "True\n",
      "True\n",
      "True\n",
      "True\n",
      "True\n",
      "True\n",
      "True\n",
      "True\n"
     ]
    }
   ],
   "source": [
    "for test in tests:\n",
    "  print(linear_search(**test['input']) == test['output'])"
   ]
  },
  {
   "cell_type": "code",
   "execution_count": null,
   "metadata": {},
   "outputs": [],
   "source": []
  },
  {
   "cell_type": "code",
   "execution_count": null,
   "metadata": {},
   "outputs": [],
   "source": []
  },
  {
   "cell_type": "code",
   "execution_count": null,
   "metadata": {},
   "outputs": [],
   "source": []
  },
  {
   "cell_type": "code",
   "execution_count": null,
   "metadata": {},
   "outputs": [],
   "source": []
  }
 ],
 "metadata": {
  "kernelspec": {
   "display_name": "Python 3.8.10 64-bit",
   "language": "python",
   "name": "python3"
  },
  "language_info": {
   "codemirror_mode": {
    "name": "ipython",
    "version": 3
   },
   "file_extension": ".py",
   "mimetype": "text/x-python",
   "name": "python",
   "nbconvert_exporter": "python",
   "pygments_lexer": "ipython3",
   "version": "3.8.10"
  },
  "orig_nbformat": 4,
  "vscode": {
   "interpreter": {
    "hash": "6a926afa313b26ae1264fdcf81c726a97e69f6ba2ba780f6aa901948710f8d6e"
   }
  }
 },
 "nbformat": 4,
 "nbformat_minor": 2
}
