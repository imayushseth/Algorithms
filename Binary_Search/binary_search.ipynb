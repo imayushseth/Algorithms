{
 "cells": [
  {
   "cell_type": "code",
   "execution_count": 1,
   "metadata": {},
   "outputs": [],
   "source": [
    "\n",
    "test0 = {\n",
    "  'input' : {\n",
    "    'nums' : [1,2,3,4,5,6,7],\n",
    "    'find' : 6\n",
    "  },\n",
    "  'output' : 5\n",
    "}\n",
    "\n",
    "test1 = {\n",
    "  'input' : {\n",
    "    'nums' : [1,2,3,4,5,6,7],\n",
    "    'find' : 2\n",
    "  },\n",
    "  'output' : 1\n",
    "}\n",
    "\n",
    "test2 = {\n",
    "  'input' : {\n",
    "    'nums' : [1,2,3,4,5,6,7],\n",
    "    'find' : 4\n",
    "  },\n",
    "  'output' : 3\n",
    "}\n",
    "\n",
    "test3 = {\n",
    "  'input' : {\n",
    "    'nums' : [111],\n",
    "    'find' : 111\n",
    "  },\n",
    "  'output' : 0\n",
    "}\n",
    "\n",
    "test4 = {\n",
    "  'input' : {\n",
    "    'nums' : [1,2,3,4,5,6,7],\n",
    "    'find' : 7\n",
    "  },\n",
    "  'output' : 6\n",
    "}\n",
    "\n",
    "test5 = {\n",
    "  'input' : {\n",
    "    'nums' : [],\n",
    "    'find' : 6\n",
    "  },\n",
    "  'output' : -1\n",
    "}\n",
    "\n",
    "test6 = {\n",
    "  'input' : {\n",
    "    'nums' : [1,2,3,4,5,6,7],\n",
    "    'find' : 8\n",
    "  },\n",
    "  'output' : -1\n",
    "}\n",
    "\n",
    "test7 = {\n",
    "  'input' : {\n",
    "    'nums' : [1,1,1,1,1],\n",
    "    'find' : 1\n",
    "  },\n",
    "  'output' : 0\n",
    "}\n",
    "\n",
    "tests = [test0, test1, test2, test3, test4, test5, test6, test7]\n"
   ]
  },
  {
   "cell_type": "code",
   "execution_count": 3,
   "metadata": {},
   "outputs": [],
   "source": [
    "def binary_search(lo, hi, condition):\n",
    "  while lo <= hi:\n",
    "    mid = (lo + hi)//2\n",
    "    result = condition(mid)\n",
    "    if result == 'found':\n",
    "      return mid\n",
    "    elif result == 'left':\n",
    "      hi = mid - 1\n",
    "    else:\n",
    "      lo = mid + 1\n",
    "  return -1\n",
    "\n",
    "\n",
    "def locate(nums, find):\n",
    "  def condition(mid):\n",
    "    if nums[mid] == find:\n",
    "      if nums[mid-1] == find and mid-1 >= 0:\n",
    "        return 'left'\n",
    "      return 'found'\n",
    "    elif nums[mid] > find:\n",
    "      return 'left'\n",
    "    else:\n",
    "      return 'right'\n",
    "  return binary_search(0, len(nums) - 1, condition)\n",
    "\n"
   ]
  },
  {
   "cell_type": "code",
   "execution_count": 4,
   "metadata": {},
   "outputs": [
    {
     "name": "stdout",
     "output_type": "stream",
     "text": [
      "True\n",
      "True\n",
      "True\n",
      "True\n",
      "True\n",
      "True\n",
      "True\n",
      "True\n"
     ]
    }
   ],
   "source": [
    "\n",
    "for test in tests:\n",
    "  print(locate(**test['input']) == test['output'])\n",
    "\n"
   ]
  },
  {
   "cell_type": "code",
   "execution_count": 5,
   "metadata": {},
   "outputs": [
    {
     "data": {
      "text/plain": [
       "[{'input': {'nums': [1, 2, 3, 4, 5, 6, 7], 'find': 6}, 'output': 5},\n",
       " {'input': {'nums': [1, 2, 3, 4, 5, 6, 7], 'find': 2}, 'output': 1},\n",
       " {'input': {'nums': [1, 2, 3, 4, 5, 6, 7], 'find': 4}, 'output': 3},\n",
       " {'input': {'nums': [111], 'find': 111}, 'output': 0},\n",
       " {'input': {'nums': [1, 2, 3, 4, 5, 6, 7], 'find': 7}, 'output': 6},\n",
       " {'input': {'nums': [], 'find': 6}, 'output': -1},\n",
       " {'input': {'nums': [1, 2, 3, 4, 5, 6, 7], 'find': 8}, 'output': -1},\n",
       " {'input': {'nums': [1, 1, 1, 1, 1], 'find': 1}, 'output': 0}]"
      ]
     },
     "execution_count": 5,
     "metadata": {},
     "output_type": "execute_result"
    }
   ],
   "source": [
    "tests"
   ]
  }
 ],
 "metadata": {
  "kernelspec": {
   "display_name": "Python 3.8.10 64-bit",
   "language": "python",
   "name": "python3"
  },
  "language_info": {
   "codemirror_mode": {
    "name": "ipython",
    "version": 3
   },
   "file_extension": ".py",
   "mimetype": "text/x-python",
   "name": "python",
   "nbconvert_exporter": "python",
   "pygments_lexer": "ipython3",
   "version": "3.8.10"
  },
  "orig_nbformat": 4,
  "vscode": {
   "interpreter": {
    "hash": "6a926afa313b26ae1264fdcf81c726a97e69f6ba2ba780f6aa901948710f8d6e"
   }
  }
 },
 "nbformat": 4,
 "nbformat_minor": 2
}
